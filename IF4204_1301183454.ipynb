{
 "metadata": {
  "language_info": {
   "codemirror_mode": {
    "name": "ipython",
    "version": 3
   },
   "file_extension": ".py",
   "mimetype": "text/x-python",
   "name": "python",
   "nbconvert_exporter": "python",
   "pygments_lexer": "ipython3",
   "version": "3.8.3-final"
  },
  "orig_nbformat": 2,
  "kernelspec": {
   "name": "python38232bit4a8b71824c5e415498cad32dada6597f",
   "display_name": "Python 3.8.2 32-bit"
  }
 },
 "nbformat": 4,
 "nbformat_minor": 2,
 "cells": [
  {
   "cell_type": "code",
   "execution_count": 71,
   "metadata": {},
   "outputs": [],
   "source": [
    "import csv\n",
    "import pandas as pd\n",
    "import random"
   ]
  },
  {
   "cell_type": "code",
   "execution_count": 72,
   "metadata": {},
   "outputs": [
    {
     "output_type": "stream",
     "name": "stdout",
     "text": [
      "     Id  Penghasilan  Pengeluaran\n0     1        18.76         9.68\n1     2         8.35         4.52\n2     3        17.03        10.11\n3     4         8.23         9.25\n4     5        16.89         6.99\n..  ...          ...          ...\n95   96        17.31        10.00\n96   97        18.85         9.78\n97   98        14.52        10.32\n98   99         9.83        10.64\n99  100         7.84         3.44\n\n[100 rows x 3 columns]\n"
     ]
    }
   ],
   "source": [
    "#membaca file Mahasiswa\n",
    "data = pd.read_csv(\"Mahasiswa.csv\", sep = ';')\n",
    "print(data)"
   ]
  },
  {
   "cell_type": "code",
   "execution_count": 73,
   "metadata": {},
   "outputs": [
    {
     "output_type": "execute_result",
     "data": {
      "text/plain": [
       "   Id  Penghasilan  Pengeluaran\n",
       "0   1        18.76         9.68\n",
       "1   2         8.35         4.52\n",
       "2   3        17.03        10.11\n",
       "3   4         8.23         9.25\n",
       "4   5        16.89         6.99"
      ],
      "text/html": "<div>\n<style scoped>\n    .dataframe tbody tr th:only-of-type {\n        vertical-align: middle;\n    }\n\n    .dataframe tbody tr th {\n        vertical-align: top;\n    }\n\n    .dataframe thead th {\n        text-align: right;\n    }\n</style>\n<table border=\"1\" class=\"dataframe\">\n  <thead>\n    <tr style=\"text-align: right;\">\n      <th></th>\n      <th>Id</th>\n      <th>Penghasilan</th>\n      <th>Pengeluaran</th>\n    </tr>\n  </thead>\n  <tbody>\n    <tr>\n      <th>0</th>\n      <td>1</td>\n      <td>18.76</td>\n      <td>9.68</td>\n    </tr>\n    <tr>\n      <th>1</th>\n      <td>2</td>\n      <td>8.35</td>\n      <td>4.52</td>\n    </tr>\n    <tr>\n      <th>2</th>\n      <td>3</td>\n      <td>17.03</td>\n      <td>10.11</td>\n    </tr>\n    <tr>\n      <th>3</th>\n      <td>4</td>\n      <td>8.23</td>\n      <td>9.25</td>\n    </tr>\n    <tr>\n      <th>4</th>\n      <td>5</td>\n      <td>16.89</td>\n      <td>6.99</td>\n    </tr>\n  </tbody>\n</table>\n</div>"
     },
     "metadata": {},
     "execution_count": 73
    }
   ],
   "source": [
    "data.head()"
   ]
  },
  {
   "cell_type": "code",
   "execution_count": 74,
   "metadata": {},
   "outputs": [],
   "source": [
    "Penghasilan = [\"Upper\", \"Middle\", \"Bottom\"]\n",
    "Pengeluaran = [\"High\", \"Average\", \"Low\"]\n",
    "score = [\"Accepted\", \"Considered\", \"Rejected\"]"
   ]
  },
  {
   "cell_type": "code",
   "execution_count": 75,
   "metadata": {},
   "outputs": [
    {
     "output_type": "stream",
     "name": "stdout",
     "text": [
      "[[  1.    18.76   9.68]\n [  2.     8.35   4.52]\n [  3.    17.03  10.11]\n [  4.     8.23   9.25]\n [  5.    16.89   6.99]\n [  6.    15.19   7.2 ]\n [  7.     9.03   9.35]\n [  8.    17.99   7.1 ]\n [  9.    17.09  10.54]\n [ 10.    18.43   7.74]\n [ 11.     5.78   6.66]\n [ 12.    14.29   8.06]\n [ 13.     5.55   6.35]\n [ 14.    13.06   8.82]\n [ 15.    17.69   8.17]\n [ 16.    12.39   9.78]\n [ 17.    16.6    9.78]\n [ 18.    15.57   9.68]\n [ 19.     9.96   4.48]\n [ 20.    19.62   8.28]\n [ 21.    15.29   9.89]\n [ 22.    18.71   9.46]\n [ 23.    14.42   8.49]\n [ 24.    19.27  10.21]\n [ 25.     6.48   7.85]\n [ 26.    14.     9.46]\n [ 27.    16.32   7.42]\n [ 28.    18.03   6.77]\n [ 29.    17.58  10.21]\n [ 30.    18.47   8.6 ]\n [ 31.    18.7    9.57]\n [ 32.    16.54   8.28]\n [ 33.     7.03  10.11]\n [ 34.    17.81   6.56]\n [ 35.    17.02   7.53]\n [ 36.    13.92   7.2 ]\n [ 37.    13.52   9.46]\n [ 38.     9.94  10.82]\n [ 39.     8.02   4.65]\n [ 40.    16.32   9.78]\n [ 41.     4.62   6.88]\n [ 42.    14.06  10.43]\n [ 43.    14.03  10.  ]\n [ 44.    17.37   9.68]\n [ 45.    16.97   9.46]\n [ 46.     9.58  10.04]\n [ 47.     9.63   9.78]\n [ 48.     9.02   3.76]\n [ 49.     9.52  10.93]\n [ 50.     9.31  11.29]\n [ 51.    15.77   7.42]\n [ 52.     9.1    9.57]\n [ 53.    14.75   7.31]\n [ 54.    16.22   8.06]\n [ 55.    16.29   9.14]\n [ 56.    13.81   9.25]\n [ 57.    17.87  10.  ]\n [ 58.    18.87  10.64]\n [ 59.     8.2    3.55]\n [ 60.     9.32   5.16]\n [ 61.     9.26   3.91]\n [ 62.    13.31  10.32]\n [ 63.     9.29   9.25]\n [ 64.    18.28  10.  ]\n [ 65.    13.11  10.32]\n [ 66.     9.63   9.78]\n [ 67.    13.67   7.1 ]\n [ 68.    14.34   8.92]\n [ 69.     9.86  10.43]\n [ 70.    17.68   7.63]\n [ 71.    14.97   7.74]\n [ 72.     9.71   4.81]\n [ 73.    15.76   8.06]\n [ 74.     8.52   3.98]\n [ 75.     5.09   7.53]\n [ 76.    12.17   7.2 ]\n [ 77.    16.52   8.71]\n [ 78.    15.95   7.53]\n [ 79.     8.52  10.32]\n [ 80.    15.92   7.31]\n [ 81.     9.18   9.46]\n [ 82.    17.58  10.54]\n [ 83.    17.88  10.64]\n [ 84.    14.86   8.6 ]\n [ 85.    14.93   8.28]\n [ 86.    14.7    8.6 ]\n [ 87.    18.19   7.63]\n [ 88.    16.08   7.85]\n [ 89.    15.44   8.28]\n [ 90.    19.69   8.06]\n [ 91.    15.58   7.31]\n [ 92.    19.23   8.17]\n [ 93.     9.47   4.84]\n [ 94.     9.07  10.21]\n [ 95.    16.9    7.42]\n [ 96.    17.31  10.  ]\n [ 97.    18.85   9.78]\n [ 98.    14.52  10.32]\n [ 99.     9.83  10.64]\n [100.     7.84   3.44]]\n"
     ]
    }
   ],
   "source": [
    "d = data.values\n",
    "print(d)"
   ]
  },
  {
   "cell_type": "code",
   "execution_count": 76,
   "metadata": {},
   "outputs": [],
   "source": [
    "#MEMBERSHIP FUNCTION UNTUK PENGHASILAN\n",
    "\n",
    "#batas = [5.0, 8.0, 12.0, 15.0]\n",
    "\n",
    "#Penghasilan [BOTTOM]\n",
    "def botIncome(i):\n",
    "    if (i <= 5.0):\n",
    "        return 1\n",
    "    elif (i > 8.0):\n",
    "        return 0\n",
    "    elif ((i > 5.0) and (i <= 8.0)):\n",
    "        return (8.0-i)/(8.0-5.0)\n",
    "\n",
    "#Penghasilan [MIDDLE]\n",
    "def midIncome(i):\n",
    "    if ((i <= 5.0) or (i > 15.0)):\n",
    "        return 0\n",
    "    elif ((i > 8.0 and i <= 12.0)):\n",
    "        return 1\n",
    "    elif ((i > 5.0) and (i <= 8.0)):\n",
    "        return (i-5.0)/(8.0-5.0)\n",
    "    elif ((i > 12.0 and i <= 15.0)):\n",
    "        return (15.0-i)/(15.0-12.0)\n",
    "\n",
    "#Penghasilan [UPPER]\n",
    "def upIncome(i):\n",
    "    if (i > 15.0):\n",
    "        return 1\n",
    "    elif (i <= 12.0):\n",
    "        return 0\n",
    "    elif ((i > 12.0) and (i <= 15.0)):\n",
    "        return (i-12.0)/(15.0-12.0)\n"
   ]
  },
  {
   "cell_type": "code",
   "execution_count": 77,
   "metadata": {},
   "outputs": [],
   "source": [
    "#MEMBERSHIP FUNCTION UNTUK PENGELUARAN\n",
    "\n",
    "#batas = [5.0, 7.0, 9.0, 10.0]\n",
    "\n",
    "#Pengeluaran [LOW]\n",
    "def lowExpense(e):\n",
    "    if (e <= 5.0):\n",
    "        return 1\n",
    "    elif (e > 7.0):\n",
    "        return 0\n",
    "    elif ((e >= 5.1) and (e <= 7.0)):\n",
    "        return (7.0 - e)/(7.0-5.0)\n",
    "\n",
    "#Pengeluaran [AVERAGE]\n",
    "def avgExpense(e):\n",
    "    if ((e <= 5.0) or (e > 10.0)):\n",
    "        return 0\n",
    "    elif ((e > 7.0) and (e <= 9.0)):\n",
    "        return 1\n",
    "    elif ((e > 5.0) and (e <= 7.0)):\n",
    "        return (e - 5.0)/(7.0-5.0)\n",
    "    elif ((e > 9.0) and (e <= 10.0)):\n",
    "        return (10.0 - e)/(10.0-9.0)\n",
    "\n",
    "#Pengeluaran [HIGH]\n",
    "def highExpense(e):\n",
    "    if (e > 10.0):\n",
    "        return 1\n",
    "    elif (e <= 9.0):\n",
    "        return 0\n",
    "    elif ((e > 9.0) and (e <= 10.0)):\n",
    "        return (e-10.0)/(10.0-9.0)"
   ]
  },
  {
   "cell_type": "code",
   "execution_count": 78,
   "metadata": {},
   "outputs": [],
   "source": [
    "def scoreRules(penghasilan, pengeluaran):\n",
    "    if ((penghasilan == \"Upper\") and (pengeluaran == \"High\")):\n",
    "        scoreValue = \"Rejected\"\n",
    "    elif ((penghasilan == \"Upper\") and (pengeluaran == \"Average\")):\n",
    "        scoreValue = \"Rejected\"\n",
    "    elif ((penghasilan == \"Upper\") and (pengeluaran == \"Low\")):\n",
    "        scoreValue = \"Considered\"\n",
    "\n",
    "    elif ((penghasilan == \"Middle\") and (pengeluaran == \"High\")):\n",
    "        scoreValue = \"Rejected\"\n",
    "    elif ((penghasilan == \"Middle\") and (pengeluaran == \"Average\")):\n",
    "        scoreValue = \"Considered\"\n",
    "    elif ((penghasilan == \"Middle\") and (pengeluaran == \"Low\")):\n",
    "        scoreValue = \"Accepted\"\n",
    "\n",
    "    elif ((penghasilan == \"Bottom\") and (pengeluaran == \"High\")):\n",
    "        scoreValue = \"Considered\"\n",
    "    elif ((penghasilan == \"Bottom\") and (pengeluaran == \"Average\")):\n",
    "        scoreValue = \"Accepted\"\n",
    "    elif ((penghasilan == \"Bottom\") and (pengeluaran == \"Low\")):\n",
    "        scoreValue = \"Accepted\"\n",
    "\n",
    "    return scoreValue"
   ]
  },
  {
   "cell_type": "code",
   "execution_count": 79,
   "metadata": {},
   "outputs": [],
   "source": [
    "#Fuzzification Penghasilan\n",
    "\n",
    "def fuzziIncome(value):\n",
    "    up = upIncome(value)\n",
    "    mid = midIncome(value)\n",
    "    bot = botIncome(value)\n",
    "    return up, mid, bot"
   ]
  },
  {
   "cell_type": "code",
   "execution_count": 80,
   "metadata": {},
   "outputs": [],
   "source": [
    "#Fuzzification Pengeluaran\n",
    "\n",
    "def fuzziExpense(value):\n",
    "    hi = highExpense(value)\n",
    "    avg = avgExpense(value)\n",
    "    low = lowExpense(value)\n",
    "    return hi, avg, low"
   ]
  },
  {
   "cell_type": "code",
   "execution_count": 81,
   "metadata": {},
   "outputs": [],
   "source": [
    "#Inference Table\n",
    "def InferenceTable(upper, mid, bottom, high, avg, low):\n",
    "    \n",
    "    tmpAcc = []\n",
    "    tmpCons = []\n",
    "    tmpRej = []\n",
    "    \n",
    "    tmpTable = [\n",
    "        [upper, high], \n",
    "        [upper, avg], \n",
    "        [upper, low],\n",
    "        [middle, high], \n",
    "        [middle, avg], \n",
    "        [middle, low], \n",
    "        [bottom, high], \n",
    "        [bottom, avg], \n",
    "        [bottom, low]\n",
    "    ]\n",
    "    \n",
    "    tmpScore = 0\n",
    "    \n",
    "    for j in range(9):\n",
    "        \n",
    "        tmpScore = min(tmpTable[j][0], tmpTable[j][1])\n",
    "        if (j == 5) or (j == 7) or (j == 8):\n",
    "            tmpAcc.append(tmpScore)\n",
    "        elif (j == 2) or (j == 4) or (j == 6):\n",
    "            tmpCons.append(tmpScore)\n",
    "        elif (j == 0) or (j == 1) or (j == 3):\n",
    "            tmpRej.append(tmpScore)\n",
    "    \n",
    "    acc = max(tmpAcc)\n",
    "    cons = max(tmpCons)\n",
    "    rej = max(tmpRej)\n",
    "    \n",
    "    return acc, cons, rej"
   ]
  },
  {
   "cell_type": "code",
   "execution_count": 82,
   "metadata": {},
   "outputs": [],
   "source": [
    "#Defuzzification\n",
    "\n",
    "def defuzzification(accepted, considered, rejected):\n",
    "    rej = 50\n",
    "    cons = 75\n",
    "    acc = 100\n",
    "    \n",
    "    return ((accepted*acc)+(considered*cons)+(rejected*rej))/(accepted + considered + rejected)"
   ]
  },
  {
   "cell_type": "code",
   "execution_count": 83,
   "metadata": {},
   "outputs": [],
   "source": [
    "def writeFile(sortedData):\n",
    "\n",
    "    f = open(\"Bantuan.csv\", \"a\")\n",
    "    d = str(sortedData)\n",
    "    f.write(d + \"\\n\")\n",
    "    print()\n",
    "    f.close()"
   ]
  },
  {
   "source": [
    "#                 MAIN PROGRAM                #\n",
    "\n",
    "person = []\n",
    "chosen = []\n",
    "personID = []\n",
    "\n",
    "for i in range(len(data)):\n",
    "    #FUZZIFICATION for PENGHASILAN\n",
    "    upper, middle, bottom = fuzziIncome(d[i][1])\n",
    "    #FUZZIFICATION for PENGELUARAN\n",
    "    high, avg, low = fuzziExpense(d[i][2])\n",
    "    #INFERENCE TABLE\n",
    "    acc, cons, rej = InferenceTable(upper, middle, bottom, high, avg, low)\n",
    "    #DEFUZZIFICATION\n",
    "    result = defuzzification(acc, cons, rej)\n",
    "    person.append({\n",
    "        'id':i, \n",
    "        'hasil':result\n",
    "    })\n",
    "\n",
    "# SORTING \n",
    "srt = sorted(person, key=lambda x:x['hasil'],reverse=True)\n",
    "print(srt)\n",
    "for i in range(20):\n",
    "    chosen.append(srt[i])\n",
    "    writeFile(srt[i])"
   ],
   "cell_type": "code",
   "metadata": {},
   "execution_count": 84,
   "outputs": [
    {
     "output_type": "stream",
     "name": "stdout",
     "text": [
      "[{'id': 1, 'hasil': 100.0}, {'id': 18, 'hasil': 100.0}, {'id': 38, 'hasil': 100.0}, {'id': 40, 'hasil': 100.0}, {'id': 12, 'hasil': 94.6601941747573}, {'id': 10, 'hasil': 93.49999999999999}, {'id': 24, 'hasil': 87.66666666666666}, {'id': 3, 'hasil': 75.0}, {'id': 6, 'hasil': 75.0}, {'id': 13, 'hasil': 66.16666666666666}, {'id': 15, 'hasil': 65.71428571428572}, {'id': 36, 'hasil': 62.33333333333333}, {'id': 25, 'hasil': 59.54198473282444}, {'id': 32, 'hasil': 58.08333333333333}, {'id': 11, 'hasil': 55.91666666666668}, {'id': 22, 'hasil': 54.83333333333333}, {'id': 4, 'hasil': 50.125}, {'id': 28, 'hasil': 50.0}, {'id': 39, 'hasil': 50.0}, {'id': 42, 'hasil': nan}, {'id': 47, 'hasil': 100.0}, {'id': 46, 'hasil': 75.00000000000001}, {'id': 35, 'hasil': 59.0}, {'id': 33, 'hasil': 55.50000000000001}, {'id': 27, 'hasil': 52.875}, {'id': 0, 'hasil': 50.0}, {'id': 2, 'hasil': 50.0}, {'id': 5, 'hasil': 50.0}, {'id': 7, 'hasil': 50.0}, {'id': 8, 'hasil': 50.0}, {'id': 9, 'hasil': 50.0}, {'id': 14, 'hasil': 50.0}, {'id': 16, 'hasil': 50.0}, {'id': 17, 'hasil': 50.0}, {'id': 19, 'hasil': 50.0}, {'id': 20, 'hasil': 50.0}, {'id': 21, 'hasil': 50.0}, {'id': 23, 'hasil': 50.0}, {'id': 26, 'hasil': 50.0}, {'id': 29, 'hasil': 50.0}, {'id': 30, 'hasil': 50.0}, {'id': 31, 'hasil': 50.0}, {'id': 34, 'hasil': 50.0}, {'id': 37, 'hasil': 50.0}, {'id': 41, 'hasil': 50.0}, {'id': 43, 'hasil': 50.0}, {'id': 44, 'hasil': 50.0}, {'id': 45, 'hasil': 50.0}, {'id': 48, 'hasil': 50.0}, {'id': 49, 'hasil': 50.0}, {'id': 56, 'hasil': nan}, {'id': 58, 'hasil': 100.0}, {'id': 60, 'hasil': 100.0}, {'id': 63, 'hasil': nan}, {'id': 71, 'hasil': 100.0}, {'id': 73, 'hasil': 100.0}, {'id': 92, 'hasil': 100.0}, {'id': 74, 'hasil': 99.25000000000001}, {'id': 59, 'hasil': 98.0}, {'id': 65, 'hasil': 75.00000000000001}, {'id': 51, 'hasil': 75.0}, {'id': 62, 'hasil': 75.0}, {'id': 80, 'hasil': 75.0}, {'id': 75, 'hasil': 73.58333333333333}, {'id': 66, 'hasil': 61.08333333333333}, {'id': 67, 'hasil': 55.5}, {'id': 76, 'hasil': 50.0}, {'id': 86, 'hasil': 50.0}, {'id': 88, 'hasil': 50.0}, {'id': 90, 'hasil': 50.0}, {'id': 94, 'hasil': 50.0}, {'id': 95, 'hasil': nan}, {'id': 99, 'hasil': 100.0}, {'id': 55, 'hasil': 59.91666666666666}, {'id': 85, 'hasil': 52.500000000000014}, {'id': 52, 'hasil': 52.08333333333333}, {'id': 83, 'hasil': 51.16666666666667}, {'id': 84, 'hasil': 50.583333333333336}, {'id': 70, 'hasil': 50.25}, {'id': 50, 'hasil': 50.0}, {'id': 53, 'hasil': 50.0}, {'id': 54, 'hasil': 50.0}, {'id': 57, 'hasil': 50.0}, {'id': 61, 'hasil': 50.0}, {'id': 64, 'hasil': 50.0}, {'id': 68, 'hasil': 50.0}, {'id': 69, 'hasil': 50.0}, {'id': 72, 'hasil': 50.0}, {'id': 77, 'hasil': 50.0}, {'id': 78, 'hasil': 50.0}, {'id': 79, 'hasil': 50.0}, {'id': 81, 'hasil': 50.0}, {'id': 82, 'hasil': 50.0}, {'id': 87, 'hasil': 50.0}, {'id': 89, 'hasil': 50.0}, {'id': 91, 'hasil': 50.0}, {'id': 93, 'hasil': 50.0}, {'id': 96, 'hasil': 50.0}, {'id': 97, 'hasil': 50.0}, {'id': 98, 'hasil': 50.0}]\n\n\n\n\n\n\n\n\n\n\n\n\n\n\n\n\n\n\n\n\n"
     ]
    }
   ]
  }
 ]
}